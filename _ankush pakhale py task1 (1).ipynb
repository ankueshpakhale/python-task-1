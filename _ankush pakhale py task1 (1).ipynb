{
 "cells": [
  {
   "cell_type": "markdown",
   "id": "46a4b092-42e7-4326-b5dc-7f3dac8b8e94",
   "metadata": {},
   "source": [
    "# string methods is a collection of in-built Python functions that operates on lists."
   ]
  },
  {
   "cell_type": "markdown",
   "id": "5ec5f148-ec4d-4799-9bb6-281f803a85b0",
   "metadata": {},
   "source": [
    "1) lowercase :-Converts all uppercase characters in a string into lowercase"
   ]
  },
  {
   "cell_type": "code",
   "execution_count": 1,
   "id": "6f07da16-4a05-4c54-9e17-852b40060f62",
   "metadata": {},
   "outputs": [],
   "source": [
    "text = 'WE THE ONE'"
   ]
  },
  {
   "cell_type": "code",
   "execution_count": 2,
   "id": "82656275-8679-4a06-b618-340c4ea5116a",
   "metadata": {},
   "outputs": [],
   "source": [
    "lowercase_text = text.lower()"
   ]
  },
  {
   "cell_type": "code",
   "execution_count": 7,
   "id": "c1ff1336-ed6c-4a83-8d02-eb92dd04438d",
   "metadata": {},
   "outputs": [
    {
     "name": "stdout",
     "output_type": "stream",
     "text": [
      "we the one\n"
     ]
    }
   ],
   "source": [
    "print(lowercase_text)"
   ]
  },
  {
   "cell_type": "markdown",
   "id": "b5cc23c7-9f47-46d7-934a-1e8619f51934",
   "metadata": {},
   "source": [
    "2. uppercase :-Converts all lowercase characters in a string into uppercase"
   ]
  },
  {
   "cell_type": "code",
   "execution_count": 8,
   "id": "75d8a52f-3f2e-491c-be75-39cc39f4bc7d",
   "metadata": {},
   "outputs": [],
   "source": [
    "name='you are great'"
   ]
  },
  {
   "cell_type": "code",
   "execution_count": 9,
   "id": "77b2a326-b4b5-4382-a90e-6d449729b72c",
   "metadata": {},
   "outputs": [],
   "source": [
    "uppercase_name =name.upper()"
   ]
  },
  {
   "cell_type": "code",
   "execution_count": 10,
   "id": "b8d0395f-8084-4bff-bb92-493bcf06d577",
   "metadata": {},
   "outputs": [
    {
     "name": "stdout",
     "output_type": "stream",
     "text": [
      "YOU ARE GREAT\n"
     ]
    }
   ],
   "source": [
    "print(uppercase_name)"
   ]
  },
  {
   "cell_type": "markdown",
   "id": "8edc52a1-0d94-4a19-ad66-28d3ea47be80",
   "metadata": {},
   "source": [
    "3.length :-used to find the no, of characters in string"
   ]
  },
  {
   "cell_type": "code",
   "execution_count": 11,
   "id": "11f342c2-5ecd-4ed4-bb28-6761311a1b18",
   "metadata": {},
   "outputs": [],
   "source": [
    "string = 'you are the best'"
   ]
  },
  {
   "cell_type": "code",
   "execution_count": 18,
   "id": "1e7dc669-9a2a-4bc8-a60d-9c2ce34dba00",
   "metadata": {},
   "outputs": [],
   "source": [
    "x= len(string)"
   ]
  },
  {
   "cell_type": "code",
   "execution_count": 19,
   "id": "60aa83a2-d476-4741-9e62-e0a658dcdb07",
   "metadata": {},
   "outputs": [
    {
     "name": "stdout",
     "output_type": "stream",
     "text": [
      "16\n"
     ]
    }
   ],
   "source": [
    "print(x)"
   ]
  },
  {
   "cell_type": "markdown",
   "id": "85132f54-8dbb-4328-8c7b-f883e3bd200a",
   "metadata": {},
   "source": [
    "#### 4.capitalize :-capitalize method returns a copy of the original string and converts the first character of the string to a capital (uppercase) letter while making all other characters in the string lowercase letters."
   ]
  },
  {
   "cell_type": "code",
   "execution_count": 22,
   "id": "8283abb5-6248-4a68-a6bf-3e8dbd0d0697",
   "metadata": {},
   "outputs": [],
   "source": [
    "name = \"ankush pakhale\""
   ]
  },
  {
   "cell_type": "code",
   "execution_count": 23,
   "id": "e3d205dd-f068-443d-a7ab-1b44d1c130e9",
   "metadata": {},
   "outputs": [
    {
     "name": "stdout",
     "output_type": "stream",
     "text": [
      "Ankush pakhale\n"
     ]
    }
   ],
   "source": [
    "print(name.capitalize())"
   ]
  },
  {
   "cell_type": "markdown",
   "id": "52eb55f4-be36-4767-8d80-0ac281f009b6",
   "metadata": {},
   "source": [
    "#### 5.casefold:-casefold method is used to convert string to lowercase. It is similar to the Python lower() string method, but the case removes all the case distinctions present in a string."
   ]
  },
  {
   "cell_type": "code",
   "execution_count": 25,
   "id": "2e4ad24a-3980-4554-b712-53a77d582be8",
   "metadata": {},
   "outputs": [],
   "source": [
    "string = \"GEEKSFORGEEKS\"\n",
    "\n"
   ]
  },
  {
   "cell_type": "code",
   "execution_count": 26,
   "id": "989211d6-dca3-46c9-9e1a-0586171c278c",
   "metadata": {},
   "outputs": [
    {
     "name": "stdout",
     "output_type": "stream",
     "text": [
      "lowercase string:  geeksforgeeks\n"
     ]
    }
   ],
   "source": [
    "print(\"lowercase string: \", string.casefold())"
   ]
  },
  {
   "cell_type": "markdown",
   "id": "0e99ec86-f8d3-45bf-8d95-9a96f4071382",
   "metadata": {},
   "source": [
    "#### 6.count :-count function returns the number of occurrences of a substring within a String."
   ]
  },
  {
   "cell_type": "code",
   "execution_count": 27,
   "id": "77db97b5-6fc6-4dcd-963d-ab49a24bd8a8",
   "metadata": {},
   "outputs": [],
   "source": [
    "my_string = \"Apple\""
   ]
  },
  {
   "cell_type": "code",
   "execution_count": 34,
   "id": "c6631907-e357-4922-8623-d3cc8c55f36e",
   "metadata": {},
   "outputs": [],
   "source": [
    "char_count = my_string.count('Apple')"
   ]
  },
  {
   "cell_type": "code",
   "execution_count": 35,
   "id": "0f1765ff-1014-42a1-bfc0-efb4774a1971",
   "metadata": {},
   "outputs": [
    {
     "name": "stdout",
     "output_type": "stream",
     "text": [
      "1\n"
     ]
    }
   ],
   "source": [
    "print(char_count)"
   ]
  },
  {
   "cell_type": "markdown",
   "id": "31cbf1ee-bf7e-4fb9-a430-be6d14870a4a",
   "metadata": {},
   "source": [
    "### 7.encode :- encode() converts a string value into a collection of bytes, using an encoding scheme specified by the user."
   ]
  },
  {
   "cell_type": "code",
   "execution_count": 37,
   "id": "b281dd63-7f9c-4965-b7e5-ada9dd274b9f",
   "metadata": {},
   "outputs": [],
   "source": [
    "string = \"123-¶\""
   ]
  },
  {
   "cell_type": "code",
   "execution_count": 38,
   "id": "a2a8af5f-3090-4607-acd5-9ccb2131aabf",
   "metadata": {},
   "outputs": [
    {
     "name": "stdout",
     "output_type": "stream",
     "text": [
      "b'123-'\n"
     ]
    }
   ],
   "source": [
    "print(string.encode('ascii', errors='ignore'))"
   ]
  },
  {
   "cell_type": "markdown",
   "id": "2bf5b8fc-e44e-4578-91d7-9f6df080a094",
   "metadata": {},
   "source": [
    "### 8. partition :- splits the string at the occurance of separator."
   ]
  },
  {
   "cell_type": "code",
   "execution_count": 39,
   "id": "c1474194-62ad-445f-a0fa-2f5fcc509d41",
   "metadata": {},
   "outputs": [],
   "source": [
    "name=\"judge,court!! \""
   ]
  },
  {
   "cell_type": "code",
   "execution_count": 40,
   "id": "fd9d10db-7ccc-44c0-9f75-f59a130d22d6",
   "metadata": {},
   "outputs": [],
   "source": [
    "output=name.partition(\",\")"
   ]
  },
  {
   "cell_type": "code",
   "execution_count": 41,
   "id": "3ebd0704-8496-4f46-8d6c-6a82cffcd88b",
   "metadata": {},
   "outputs": [
    {
     "name": "stdout",
     "output_type": "stream",
     "text": [
      "('judge', ',', 'court!! ')\n"
     ]
    }
   ],
   "source": [
    "print(output)"
   ]
  },
  {
   "cell_type": "markdown",
   "id": "acc169a3-abfe-499e-af35-184cec840f65",
   "metadata": {},
   "source": [
    "### 9.isprintable:- isprintable is a built-in method used for string handling. The isprintable() method returns “True” if all characters in the string are printable or the string is empty, Otherwise, It returns “False”"
   ]
  },
  {
   "cell_type": "code",
   "execution_count": 42,
   "id": "ca413973-ea81-4607-871a-31d8a1f8cb2a",
   "metadata": {},
   "outputs": [],
   "source": [
    "string = 'My name is Ayush'"
   ]
  },
  {
   "cell_type": "code",
   "execution_count": 43,
   "id": "0fb7ad6a-c952-4b58-8962-c5b4bf1a2721",
   "metadata": {},
   "outputs": [
    {
     "name": "stdout",
     "output_type": "stream",
     "text": [
      "True\n"
     ]
    }
   ],
   "source": [
    "print(string.isprintable())"
   ]
  },
  {
   "cell_type": "markdown",
   "id": "e94e8663-c8fc-4fe9-ad21-7c95814df2e7",
   "metadata": {},
   "source": [
    "### 10.istitle:-istitle Method is a built-in string function that returns True if all the words in the string are title cased, otherwise returns False."
   ]
  },
  {
   "cell_type": "code",
   "execution_count": 44,
   "id": "dbea8729-0deb-4581-bb50-5a568b5b1049",
   "metadata": {},
   "outputs": [],
   "source": [
    "string = \"Geeks\""
   ]
  },
  {
   "cell_type": "code",
   "execution_count": 45,
   "id": "832cdd8e-a85a-4a3d-9103-6daaaf68416b",
   "metadata": {},
   "outputs": [
    {
     "name": "stdout",
     "output_type": "stream",
     "text": [
      "True\n"
     ]
    }
   ],
   "source": [
    "print(string.istitle())"
   ]
  },
  {
   "cell_type": "markdown",
   "id": "8f221679-0657-4b78-97fa-a6ada125c5b2",
   "metadata": {},
   "source": [
    "### 11.join:- join is an inbuilt string function used to join elements of a sequence separated by a string separator. This function joins elements of a sequence and makes it a string."
   ]
  },
  {
   "cell_type": "code",
   "execution_count": 48,
   "id": "ac9277d9-54c8-435c-9cef-413e8a6e1ab3",
   "metadata": {},
   "outputs": [],
   "source": [
    "str = '-'.join('hello')"
   ]
  },
  {
   "cell_type": "code",
   "execution_count": 49,
   "id": "5f07dfd6-51de-4cba-9cd9-8362ae8d8450",
   "metadata": {},
   "outputs": [
    {
     "name": "stdout",
     "output_type": "stream",
     "text": [
      "h-e-l-l-o\n"
     ]
    }
   ],
   "source": [
    "print(str)\n"
   ]
  },
  {
   "cell_type": "markdown",
   "id": "3402336c-d45d-40eb-bd68-47db5bac4964",
   "metadata": {},
   "source": [
    "### 12.:-The string replace() method returns a copy of the string where occurrences of a substring are replaced with another substring."
   ]
  },
  {
   "cell_type": "code",
   "execution_count": 50,
   "id": "5f0448c1-4281-47f8-a9bd-62a194a80bab",
   "metadata": {},
   "outputs": [],
   "source": [
    "string = \"Hello simran\""
   ]
  },
  {
   "cell_type": "code",
   "execution_count": 51,
   "id": "6abc792a-a758-4840-806e-dbb07e22d7a8",
   "metadata": {},
   "outputs": [],
   "source": [
    "new_string = string.replace(\"Hello\", \"love you\")"
   ]
  },
  {
   "cell_type": "code",
   "execution_count": 52,
   "id": "e0faaad1-04fe-4cb4-bf93-8228ed5708cc",
   "metadata": {},
   "outputs": [
    {
     "name": "stdout",
     "output_type": "stream",
     "text": [
      "love you simran\n"
     ]
    }
   ],
   "source": [
    "print(new_string)"
   ]
  },
  {
   "cell_type": "markdown",
   "id": "073d01d3-0f4d-4784-bc5b-e8ef2d25d97e",
   "metadata": {},
   "source": [
    "### 13:-splitlines() method is used to split the lines at line boundaries. The function returns a list of lines in the string, including the line break"
   ]
  },
  {
   "cell_type": "code",
   "execution_count": 53,
   "id": "d91eef01-451a-4d7c-a2ea-3318794a2257",
   "metadata": {},
   "outputs": [],
   "source": [
    "string = \"Welcome everyone to\\rthe world of Geeks\\nGeeksforGeeks\""
   ]
  },
  {
   "cell_type": "code",
   "execution_count": 54,
   "id": "fa2964fb-6154-4c82-835d-85ba11434148",
   "metadata": {},
   "outputs": [
    {
     "name": "stdout",
     "output_type": "stream",
     "text": [
      "['Welcome everyone to', 'the world of Geeks', 'GeeksforGeeks']\n"
     ]
    }
   ],
   "source": [
    "print (string.splitlines( ))"
   ]
  },
  {
   "cell_type": "code",
   "execution_count": 55,
   "id": "0c05f7ab-f8e9-447e-b631-5456b4798d57",
   "metadata": {},
   "outputs": [
    {
     "name": "stdout",
     "output_type": "stream",
     "text": [
      "['Welcome everyone to', 'the world of Geeks', 'GeeksforGeeks']\n"
     ]
    }
   ],
   "source": [
    "print (string.splitlines(0))"
   ]
  },
  {
   "cell_type": "code",
   "execution_count": null,
   "id": "5de08040-bfd4-432c-b764-688e9e10238b",
   "metadata": {},
   "outputs": [],
   "source": []
  }
 ],
 "metadata": {
  "kernelspec": {
   "display_name": "Python 3 (ipykernel)",
   "language": "python",
   "name": "python3"
  },
  "language_info": {
   "codemirror_mode": {
    "name": "ipython",
    "version": 3
   },
   "file_extension": ".py",
   "mimetype": "text/x-python",
   "name": "python",
   "nbconvert_exporter": "python",
   "pygments_lexer": "ipython3",
   "version": "3.11.7"
  }
 },
 "nbformat": 4,
 "nbformat_minor": 5
}
